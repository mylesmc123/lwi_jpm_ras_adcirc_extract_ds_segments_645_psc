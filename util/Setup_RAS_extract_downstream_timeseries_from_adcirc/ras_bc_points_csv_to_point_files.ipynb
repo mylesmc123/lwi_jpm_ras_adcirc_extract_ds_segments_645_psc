{
 "cells": [
  {
   "cell_type": "code",
   "execution_count": 7,
   "metadata": {},
   "outputs": [
    {
     "data": {
      "text/html": [
       "<div>\n",
       "<style scoped>\n",
       "    .dataframe tbody tr th:only-of-type {\n",
       "        vertical-align: middle;\n",
       "    }\n",
       "\n",
       "    .dataframe tbody tr th {\n",
       "        vertical-align: top;\n",
       "    }\n",
       "\n",
       "    .dataframe thead th {\n",
       "        text-align: right;\n",
       "    }\n",
       "</style>\n",
       "<table border=\"1\" class=\"dataframe\">\n",
       "  <thead>\n",
       "    <tr style=\"text-align: right;\">\n",
       "      <th></th>\n",
       "      <th>FID</th>\n",
       "      <th>Count</th>\n",
       "      <th>Length</th>\n",
       "      <th>Name</th>\n",
       "      <th>SA/2D Area</th>\n",
       "      <th>Connection</th>\n",
       "      <th>Lat</th>\n",
       "      <th>Lon</th>\n",
       "      <th>x/y</th>\n",
       "      <th>Model</th>\n",
       "    </tr>\n",
       "  </thead>\n",
       "  <tbody>\n",
       "    <tr>\n",
       "      <th>0</th>\n",
       "      <td>3</td>\n",
       "      <td>3</td>\n",
       "      <td>34970.59906</td>\n",
       "      <td>BC Line 1</td>\n",
       "      <td>AmiteMaurepas</td>\n",
       "      <td>External</td>\n",
       "      <td>30.058146</td>\n",
       "      <td>-90.414833</td>\n",
       "      <td>-90.414833,30.058146</td>\n",
       "      <td>Amite</td>\n",
       "    </tr>\n",
       "    <tr>\n",
       "      <th>1</th>\n",
       "      <td>3</td>\n",
       "      <td>3</td>\n",
       "      <td>34970.59906</td>\n",
       "      <td>BC Line 1</td>\n",
       "      <td>AmiteMaurepas</td>\n",
       "      <td>External</td>\n",
       "      <td>30.060287</td>\n",
       "      <td>-90.412851</td>\n",
       "      <td>-90.412851,30.060287</td>\n",
       "      <td>Amite</td>\n",
       "    </tr>\n",
       "    <tr>\n",
       "      <th>2</th>\n",
       "      <td>3</td>\n",
       "      <td>3</td>\n",
       "      <td>34970.59906</td>\n",
       "      <td>BC Line 1</td>\n",
       "      <td>AmiteMaurepas</td>\n",
       "      <td>External</td>\n",
       "      <td>30.062428</td>\n",
       "      <td>-90.410869</td>\n",
       "      <td>-90.410869,30.062428</td>\n",
       "      <td>Amite</td>\n",
       "    </tr>\n",
       "    <tr>\n",
       "      <th>3</th>\n",
       "      <td>3</td>\n",
       "      <td>3</td>\n",
       "      <td>34970.59906</td>\n",
       "      <td>BC Line 1</td>\n",
       "      <td>AmiteMaurepas</td>\n",
       "      <td>External</td>\n",
       "      <td>30.064569</td>\n",
       "      <td>-90.408887</td>\n",
       "      <td>-90.408887,30.064569</td>\n",
       "      <td>Amite</td>\n",
       "    </tr>\n",
       "    <tr>\n",
       "      <th>4</th>\n",
       "      <td>3</td>\n",
       "      <td>3</td>\n",
       "      <td>34970.59906</td>\n",
       "      <td>BC Line 1</td>\n",
       "      <td>AmiteMaurepas</td>\n",
       "      <td>External</td>\n",
       "      <td>30.066710</td>\n",
       "      <td>-90.406905</td>\n",
       "      <td>-90.406905,30.06671</td>\n",
       "      <td>Amite</td>\n",
       "    </tr>\n",
       "    <tr>\n",
       "      <th>...</th>\n",
       "      <td>...</td>\n",
       "      <td>...</td>\n",
       "      <td>...</td>\n",
       "      <td>...</td>\n",
       "      <td>...</td>\n",
       "      <td>...</td>\n",
       "      <td>...</td>\n",
       "      <td>...</td>\n",
       "      <td>...</td>\n",
       "      <td>...</td>\n",
       "    </tr>\n",
       "    <tr>\n",
       "      <th>183</th>\n",
       "      <td>10</td>\n",
       "      <td>3</td>\n",
       "      <td>33703.97090</td>\n",
       "      <td>BC Line 8</td>\n",
       "      <td>AmiteMaurepas</td>\n",
       "      <td>External</td>\n",
       "      <td>30.365231</td>\n",
       "      <td>-90.092845</td>\n",
       "      <td>-90.092845,30.365231</td>\n",
       "      <td>Amite</td>\n",
       "    </tr>\n",
       "    <tr>\n",
       "      <th>184</th>\n",
       "      <td>10</td>\n",
       "      <td>3</td>\n",
       "      <td>33703.97090</td>\n",
       "      <td>BC Line 8</td>\n",
       "      <td>AmiteMaurepas</td>\n",
       "      <td>External</td>\n",
       "      <td>30.367935</td>\n",
       "      <td>-90.092303</td>\n",
       "      <td>-90.092303,30.367935</td>\n",
       "      <td>Amite</td>\n",
       "    </tr>\n",
       "    <tr>\n",
       "      <th>185</th>\n",
       "      <td>10</td>\n",
       "      <td>3</td>\n",
       "      <td>33703.97090</td>\n",
       "      <td>BC Line 8</td>\n",
       "      <td>AmiteMaurepas</td>\n",
       "      <td>External</td>\n",
       "      <td>30.370639</td>\n",
       "      <td>-90.091760</td>\n",
       "      <td>-90.09176,30.370639</td>\n",
       "      <td>Amite</td>\n",
       "    </tr>\n",
       "    <tr>\n",
       "      <th>186</th>\n",
       "      <td>10</td>\n",
       "      <td>3</td>\n",
       "      <td>33703.97090</td>\n",
       "      <td>BC Line 8</td>\n",
       "      <td>AmiteMaurepas</td>\n",
       "      <td>External</td>\n",
       "      <td>30.373343</td>\n",
       "      <td>-90.091217</td>\n",
       "      <td>-90.091217,30.373343</td>\n",
       "      <td>Amite</td>\n",
       "    </tr>\n",
       "    <tr>\n",
       "      <th>187</th>\n",
       "      <td>10</td>\n",
       "      <td>3</td>\n",
       "      <td>33703.97090</td>\n",
       "      <td>BC Line 8</td>\n",
       "      <td>AmiteMaurepas</td>\n",
       "      <td>External</td>\n",
       "      <td>30.376047</td>\n",
       "      <td>-90.090673</td>\n",
       "      <td>-90.090673,30.376047</td>\n",
       "      <td>Amite</td>\n",
       "    </tr>\n",
       "  </tbody>\n",
       "</table>\n",
       "<p>188 rows × 10 columns</p>\n",
       "</div>"
      ],
      "text/plain": [
       "     FID  Count       Length       Name     SA/2D Area Connection        Lat  \\\n",
       "0      3      3  34970.59906  BC Line 1  AmiteMaurepas   External  30.058146   \n",
       "1      3      3  34970.59906  BC Line 1  AmiteMaurepas   External  30.060287   \n",
       "2      3      3  34970.59906  BC Line 1  AmiteMaurepas   External  30.062428   \n",
       "3      3      3  34970.59906  BC Line 1  AmiteMaurepas   External  30.064569   \n",
       "4      3      3  34970.59906  BC Line 1  AmiteMaurepas   External  30.066710   \n",
       "..   ...    ...          ...        ...            ...        ...        ...   \n",
       "183   10      3  33703.97090  BC Line 8  AmiteMaurepas   External  30.365231   \n",
       "184   10      3  33703.97090  BC Line 8  AmiteMaurepas   External  30.367935   \n",
       "185   10      3  33703.97090  BC Line 8  AmiteMaurepas   External  30.370639   \n",
       "186   10      3  33703.97090  BC Line 8  AmiteMaurepas   External  30.373343   \n",
       "187   10      3  33703.97090  BC Line 8  AmiteMaurepas   External  30.376047   \n",
       "\n",
       "           Lon                   x/y  Model  \n",
       "0   -90.414833  -90.414833,30.058146  Amite  \n",
       "1   -90.412851  -90.412851,30.060287  Amite  \n",
       "2   -90.410869  -90.410869,30.062428  Amite  \n",
       "3   -90.408887  -90.408887,30.064569  Amite  \n",
       "4   -90.406905   -90.406905,30.06671  Amite  \n",
       "..         ...                   ...    ...  \n",
       "183 -90.092845  -90.092845,30.365231  Amite  \n",
       "184 -90.092303  -90.092303,30.367935  Amite  \n",
       "185 -90.091760   -90.09176,30.370639  Amite  \n",
       "186 -90.091217  -90.091217,30.373343  Amite  \n",
       "187 -90.090673  -90.090673,30.376047  Amite  \n",
       "\n",
       "[188 rows x 10 columns]"
      ]
     },
     "execution_count": 7,
     "metadata": {},
     "output_type": "execute_result"
    }
   ],
   "source": [
    "import numpy as np\n",
    "import pandas as pd\n",
    "# from RAS_extract_downstream_timeseries_from_adcirc import *\n",
    "import xarray as xr\n",
    "\n",
    "ras_model = 'Amite'\n",
    "df = pd.read_csv('ras_bc_lines_to_points.csv')\n",
    "# adding column with constant value\n",
    "df['Model'] = ras_model\n",
    "df"
   ]
  },
  {
   "cell_type": "code",
   "execution_count": 8,
   "metadata": {},
   "outputs": [
    {
     "data": {
      "text/plain": [
       "array(['BC Line 1', 'BC Line 2', 'BC Line 3', 'BC Line 4', 'BC Line 5',\n",
       "       'BC Line 6', 'BC Line 7', 'BC Line 8'], dtype=object)"
      ]
     },
     "execution_count": 8,
     "metadata": {},
     "output_type": "execute_result"
    }
   ],
   "source": [
    "segments_List = df['Name'].unique()\n",
    "segments_List"
   ]
  },
  {
   "cell_type": "code",
   "execution_count": 12,
   "metadata": {},
   "outputs": [
    {
     "data": {
      "text/plain": [
       "SA/2D Area     Name     \n",
       "AmiteMaurepas  BC Line 1    35\n",
       "               BC Line 2    24\n",
       "               BC Line 3    31\n",
       "               BC Line 4    24\n",
       "               BC Line 5    17\n",
       "               BC Line 6    10\n",
       "               BC Line 7    13\n",
       "               BC Line 8    34\n",
       "dtype: int64"
      ]
     },
     "execution_count": 12,
     "metadata": {},
     "output_type": "execute_result"
    }
   ],
   "source": [
    "df2 = df.groupby(['SA/2D Area', 'Name']).size()\n",
    "# print(df2)\n",
    "df2"
   ]
  },
  {
   "cell_type": "code",
   "execution_count": 14,
   "metadata": {},
   "outputs": [
    {
     "data": {
      "text/plain": [
       "array(['AmiteMaurepas'], dtype=object)"
      ]
     },
     "execution_count": 14,
     "metadata": {},
     "output_type": "execute_result"
    }
   ],
   "source": [
    "area_list = df['SA/2D Area'].unique()\n",
    "area_list"
   ]
  },
  {
   "cell_type": "code",
   "execution_count": 15,
   "metadata": {},
   "outputs": [],
   "source": [
    "for area in area_list:\n",
    "    area_xy_df = df.loc[df['SA/2D Area'] == area, ('Name','Lat','Lon')]\n",
    "    for segment in segments_List:\n",
    "        # segment_xy_df = df.loc[df['Name'] == segment, 'x/y']\n",
    "        segment_xy_df = df.loc[df['Name'] == segment, ('Lat','Lon')]\n",
    "        segment_xy_df.reset_index(drop=True)\n",
    "        segment_xy_df.index.name = 'id'\n",
    "        segment_xy_df = segment_xy_df.rename(columns={\"Lat\": 'y', \"Lon\": \"x\"})\n",
    "        segment_xy_df.to_csv(f'/twi/work/projects/p00667_louisiana_rtf/ras/lffs/louisiana_real_time_forecasting/src/system/scripts/dev/temp/pointFiles/{ras_model}_{area}_{segment}.txt', sep=',', header=True, index=True)\n",
    "    "
   ]
  }
 ],
 "metadata": {
  "kernelspec": {
   "display_name": "Python 3.8.13 64-bit ('dss')",
   "language": "python",
   "name": "python3"
  },
  "language_info": {
   "codemirror_mode": {
    "name": "ipython",
    "version": 3
   },
   "file_extension": ".py",
   "mimetype": "text/x-python",
   "name": "python",
   "nbconvert_exporter": "python",
   "pygments_lexer": "ipython3",
   "version": "3.8.13"
  },
  "orig_nbformat": 4,
  "vscode": {
   "interpreter": {
    "hash": "2dfbb375ed37ebb01203c46f2c3b03d0afb43afa618c3d0a742c3f32bcb7e7d2"
   }
  }
 },
 "nbformat": 4,
 "nbformat_minor": 2
}
